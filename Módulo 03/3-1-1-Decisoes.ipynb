{
 "cells": [
  {
   "cell_type": "markdown",
   "metadata": {},
   "source": [
    "# Decisões no Python\n",
    "### Operadores relacionais\n",
    "#### Operador de igualdade (==)"
   ]
  },
  {
   "cell_type": "code",
   "execution_count": 4,
   "metadata": {},
   "outputs": [
    {
     "name": "stdout",
     "output_type": "stream",
     "text": [
      "False\n",
      "True\n",
      "True\n",
      "False\n"
     ]
    }
   ],
   "source": [
    "print(1 == 2)\n",
    "print(0b10 == 2)\n",
    "print(2.0 == 2)\n",
    "print(\"2\" == 2)"
   ]
  },
  {
   "cell_type": "markdown",
   "metadata": {},
   "source": [
    "#### Operador de desigualdade (!=)"
   ]
  },
  {
   "cell_type": "code",
   "execution_count": 5,
   "metadata": {},
   "outputs": [
    {
     "name": "stdout",
     "output_type": "stream",
     "text": [
      "True\n",
      "False\n"
     ]
    }
   ],
   "source": [
    "print( 1 != 2)\n",
    "print( 2.0 != 2)"
   ]
  },
  {
   "cell_type": "markdown",
   "metadata": {},
   "source": [
    "#### Operador maior que (>), maior igual a (>=)\n",
    "#### Operador menor que (<), menor igual a (<=)"
   ]
  },
  {
   "cell_type": "code",
   "execution_count": 6,
   "metadata": {},
   "outputs": [
    {
     "name": "stdout",
     "output_type": "stream",
     "text": [
      "True True\n",
      "False False\n",
      "True True\n",
      "False False\n"
     ]
    }
   ],
   "source": [
    "print(10 > 5, 10 >= 10)\n",
    "print(3 > 5, 2 >= 4)\n",
    "print(2 < 3, 8 <= 8)\n",
    "print(3 < 3, 9 <= 8)\n"
   ]
  },
  {
   "cell_type": "markdown",
   "metadata": {},
   "source": [
    "#### Atualização das prioridades com relacionais\n",
    "Seq | Operador | Descrição\n",
    "--- |:--------:| ---------\n",
    "1 | ** | Exponenciação\n",
    "2 | +,- | Unários de sinal\n",
    "3 | *, /, //, % | Multiplicação, divisão, divisão inteira e resto\n",
    "4 | +,- | Soma e subtração\n",
    "5 | >, >=, <, <= | Maior que, Maior igual a, menor que, menor igual a\n",
    "6 | ==, != | Igualdade e diferença"
   ]
  },
  {
   "cell_type": "code",
   "execution_count": null,
   "metadata": {},
   "outputs": [],
   "source": [
    "nome1 = \"Richard\"\n",
    "nome2 = \"richard\"\n",
    "if nome1 > nome2:\n",
    "  print(\"Nome1 é maior\")\n",
    "else:\n",
    "  print(\"Nome2 é maior\")"
   ]
  },
  {
   "cell_type": "code",
   "execution_count": 5,
   "metadata": {},
   "outputs": [
    {
     "name": "stdout",
     "output_type": "stream",
     "text": [
      "Ano Bissexto\n"
     ]
    }
   ],
   "source": [
    "# Lab 3.1.12\n",
    "year = int(input(\"Digite um ano: \"))\n",
    "\n",
    "if year < 1582:\n",
    "  print(\"Não dentro do período do calendário gregoriano\")\n",
    "else:\n",
    "  # Escreve o bloco se-então aqui\n",
    "  if year % 4 != 0: #se o número do ano não é divisível por quatro, é um ano comum;\n",
    "      print(\"Ano Comum\")\n",
    "  elif year % 100 != 0: # se o número do ano não for divisível por 100, será um ano bissexto;\n",
    "      print(\"Ano Bissexto\")\n",
    "  elif year % 400 != 0: # se o número do ano não for divisível por 400, é um ano comum ;\n",
    "      print(\"Ano Comum\")\n",
    "  else: #caso contrário, é um ano bissexto\n",
    "      print(\"Ano Bissexto\")\n",
    " "
   ]
  }
 ],
 "metadata": {
  "kernelspec": {
   "display_name": "Python 3",
   "language": "python",
   "name": "python3"
  },
  "language_info": {
   "codemirror_mode": {
    "name": "ipython",
    "version": 3
   },
   "file_extension": ".py",
   "mimetype": "text/x-python",
   "name": "python",
   "nbconvert_exporter": "python",
   "pygments_lexer": "ipython3",
   "version": "3.13.0"
  }
 },
 "nbformat": 4,
 "nbformat_minor": 2
}
