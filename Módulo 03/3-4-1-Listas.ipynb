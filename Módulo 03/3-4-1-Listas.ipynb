{
 "cells": [
  {
   "cell_type": "markdown",
   "metadata": {},
   "source": [
    "# Listas em python"
   ]
  },
  {
   "cell_type": "code",
   "execution_count": null,
   "metadata": {},
   "outputs": [
    {
     "name": "stdout",
     "output_type": "stream",
     "text": [
      "9\n",
      "[5, 3, 4, 111, 8]\n",
      "5\n",
      "[5, 3, 111, 8]\n",
      "111\n"
     ]
    }
   ],
   "source": [
    "lista = [5,3,4,9,8]\n",
    "print(lista[3])\n",
    "lista[3] = 111\n",
    "print(lista)\n",
    "print(len(lista)) # len retorna a quantidade de elementos\n",
    "del lista[2] # eliminando o elemento 2\n",
    "print(lista)\n",
    "print(lista[-2]) # Penúltimo elemento"
   ]
  },
  {
   "cell_type": "markdown",
   "metadata": {},
   "source": [
    "### Funções x métodos\n",
    "len(lista) => retorna tamanho de um conjunto\n",
    "lista.append(valor) => Método append vai colocar\n",
    "o valor em um novo elemento na lista no final dela"
   ]
  },
  {
   "cell_type": "markdown",
   "metadata": {},
   "source": [
    "### método append nas listas\n",
    "Adiciona um elemento no final da lista"
   ]
  },
  {
   "cell_type": "code",
   "execution_count": 9,
   "metadata": {},
   "outputs": [
    {
     "name": "stdout",
     "output_type": "stream",
     "text": [
      "[0, 1, 2, 3, 4]\n"
     ]
    }
   ],
   "source": [
    "lista = [] # lista vazia\n",
    "for vl in range(5):\n",
    "    lista.append(vl)\n",
    "print(lista)"
   ]
  },
  {
   "cell_type": "markdown",
   "metadata": {},
   "source": [
    "### método insert\n",
    "Método insert insere um valor em uma determinada posição"
   ]
  },
  {
   "cell_type": "code",
   "execution_count": 13,
   "metadata": {},
   "outputs": [
    {
     "name": "stdout",
     "output_type": "stream",
     "text": [
      "[4, 3, 2, 1, 0]\n",
      "['__add__', '__class__', '__class_getitem__', '__contains__', '__delattr__', '__delitem__', '__dir__', '__doc__', '__eq__', '__format__', '__ge__', '__getattribute__', '__getitem__', '__getstate__', '__gt__', '__hash__', '__iadd__', '__imul__', '__init__', '__init_subclass__', '__iter__', '__le__', '__len__', '__lt__', '__mul__', '__ne__', '__new__', '__reduce__', '__reduce_ex__', '__repr__', '__reversed__', '__rmul__', '__setattr__', '__setitem__', '__sizeof__', '__str__', '__subclasshook__', 'append', 'clear', 'copy', 'count', 'extend', 'index', 'insert', 'pop', 'remove', 'reverse', 'sort']\n"
     ]
    }
   ],
   "source": [
    "lista = [] # lista vazia\n",
    "for vl in range(5):\n",
    "    lista.insert(0, vl) # insere na posição 0 o valor\n",
    "print(lista)\n",
    "print(dir(lista))"
   ]
  },
  {
   "cell_type": "code",
   "execution_count": 14,
   "metadata": {},
   "outputs": [
    {
     "name": "stdout",
     "output_type": "stream",
     "text": [
      "5\n",
      "3\n",
      "4\n",
      "1\n",
      "9\n"
     ]
    }
   ],
   "source": [
    "# Utilizando for em listas\n",
    "lista = [5,3,4,1,9]\n",
    "for el in lista:\n",
    "  print(el)"
   ]
  },
  {
   "cell_type": "code",
   "execution_count": 15,
   "metadata": {},
   "outputs": [
    {
     "name": "stdout",
     "output_type": "stream",
     "text": [
      "5\n",
      "3\n",
      "4\n",
      "1\n",
      "9\n"
     ]
    }
   ],
   "source": [
    "# percorrendo uma lista pelo indice com for\n",
    "lista = [5,3,4,1,9]\n",
    "for id in range(len(lista)):\n",
    "    print(lista[id])"
   ]
  },
  {
   "cell_type": "code",
   "execution_count": 16,
   "metadata": {},
   "outputs": [
    {
     "name": "stdout",
     "output_type": "stream",
     "text": [
      "10 5\n"
     ]
    }
   ],
   "source": [
    "# Operação com variáveis normais\n",
    "a = 5\n",
    "b = a\n",
    "a = 10\n",
    "print(a, b)"
   ]
  },
  {
   "cell_type": "code",
   "execution_count": 23,
   "metadata": {},
   "outputs": [
    {
     "name": "stdout",
     "output_type": "stream",
     "text": [
      "[2, 3, 4, 5, 6] 2503851540032\n",
      "[2, 3, 4, 5, 6] 2503851540032\n"
     ]
    }
   ],
   "source": [
    "# Operação com lista\n",
    "lista1 = [2,3,4,5,6]\n",
    "lista2 = lista1\n",
    "lista2.append(7)\n",
    "del lista1[5]\n",
    "# del id\n",
    "print(lista1, id(lista1))\n",
    "print(lista2, id(lista2))"
   ]
  },
  {
   "cell_type": "code",
   "execution_count": 24,
   "metadata": {},
   "outputs": [
    {
     "name": "stdout",
     "output_type": "stream",
     "text": [
      "[3, 2, 1]\n"
     ]
    }
   ],
   "source": [
    "lista = [1,2,3]\n",
    "# Quero inverter a lista sem usar o reverse\n",
    "aux = lista[0]\n",
    "lista[0] = lista[-1]\n",
    "lista[-1] = aux\n",
    "print(lista)"
   ]
  },
  {
   "cell_type": "code",
   "execution_count": 25,
   "metadata": {},
   "outputs": [
    {
     "name": "stdout",
     "output_type": "stream",
     "text": [
      "[3, 2, 1]\n"
     ]
    }
   ],
   "source": [
    "lista = [1,2,3]\n",
    "lista[0], lista[-1] = lista[-1], lista[0]\n",
    "print(lista)"
   ]
  },
  {
   "cell_type": "code",
   "execution_count": null,
   "metadata": {},
   "outputs": [],
   "source": [
    "lista = [1,2,3,4,5]\n",
    "for ind in range(len(lista)//2):\n",
    "    lista[ind], lista[~ind] = lista[~ind], lista[ind]\n",
    "print(lista)"
   ]
  }
 ],
 "metadata": {
  "kernelspec": {
   "display_name": "Python 3",
   "language": "python",
   "name": "python3"
  },
  "language_info": {
   "codemirror_mode": {
    "name": "ipython",
    "version": 3
   },
   "file_extension": ".py",
   "mimetype": "text/x-python",
   "name": "python",
   "nbconvert_exporter": "python",
   "pygments_lexer": "ipython3",
   "version": "3.13.0"
  }
 },
 "nbformat": 4,
 "nbformat_minor": 2
}
