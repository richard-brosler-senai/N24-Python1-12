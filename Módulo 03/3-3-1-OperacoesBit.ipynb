{
 "cells": [
  {
   "cell_type": "markdown",
   "metadata": {},
   "source": [
    "# Operações Lógicas e de Bit-a-Bit\n",
    "### Operador lógico and\n",
    "A | B | Operação | Resultado\n",
    "-- | -- | -------- | ---------\n",
    "True | True | A and B | True\n",
    "False | True | A and B | False\n",
    "True | False | A and B | False\n",
    "False | False | A and B | False"
   ]
  },
  {
   "cell_type": "code",
   "execution_count": 5,
   "metadata": {},
   "outputs": [
    {
     "name": "stdout",
     "output_type": "stream",
     "text": [
      "True\n",
      "False\n",
      "1\n",
      "0\n"
     ]
    }
   ],
   "source": [
    "print( True and True)\n",
    "print( True and False)\n",
    "print(3 and 1)\n",
    "print(0 and 4)"
   ]
  },
  {
   "cell_type": "markdown",
   "metadata": {},
   "source": [
    "### Operador or\n",
    "A | B | Operação | Resultado\n",
    "-- | -- | ------- | -------\n",
    "True | True | A or B | True\n",
    "False | True | A or B | True\n",
    "True | False | A or B | True\n",
    "False | False | A or B | False"
   ]
  },
  {
   "cell_type": "code",
   "execution_count": 6,
   "metadata": {},
   "outputs": [
    {
     "name": "stdout",
     "output_type": "stream",
     "text": [
      "True\n",
      "True\n",
      "1\n",
      "4\n"
     ]
    }
   ],
   "source": [
    "print(True or True)\n",
    "print(True or False)\n",
    "print(1 or 3)\n",
    "print(0 or 4)"
   ]
  },
  {
   "cell_type": "markdown",
   "metadata": {},
   "source": [
    "### operador not\n",
    "A | Operação | Resultado\n",
    "-- | ------- | ---------\n",
    "True | not A | False\n",
    "False | not A | True"
   ]
  },
  {
   "cell_type": "code",
   "execution_count": 9,
   "metadata": {},
   "outputs": [
    {
     "name": "stdout",
     "output_type": "stream",
     "text": [
      "False\n",
      "True\n",
      "False\n",
      "True\n"
     ]
    }
   ],
   "source": [
    "print(not True)\n",
    "print(not False)\n",
    "print(not 1)\n",
    "print(not 0)"
   ]
  },
  {
   "cell_type": "code",
   "execution_count": 10,
   "metadata": {},
   "outputs": [
    {
     "name": "stdout",
     "output_type": "stream",
     "text": [
      "Idade inválida! Redigite!\n",
      "Idade inválida! Redigite!\n",
      "Você pode dirigir!\n"
     ]
    }
   ],
   "source": [
    "# juntando o que aprendemos\n",
    "# desenvolver um programa que solicite a idade entre\n",
    "# 18 e 65 anos (Só poderá digitar esses valores)\n",
    "# Mostrar a seguinte mensagem após, \"Você pode dirigir\"\n",
    "idade = 17\n",
    "while not (idade>=18 and idade<=65):\n",
    "           #idade<18 or idade>65\n",
    "    idade = int(input(\"Digite sua idade (18-65 anos): \"))\n",
    "    if not (idade>=18 and idade<=65):\n",
    "        print(\"Idade inválida! Redigite!\")\n",
    "# Fim do while\n",
    "print(\"Você pode dirigir!\")"
   ]
  },
  {
   "cell_type": "code",
   "execution_count": 7,
   "metadata": {},
   "outputs": [
    {
     "name": "stdout",
     "output_type": "stream",
     "text": [
      "True\n",
      "60 20\n",
      "00111100\n"
     ]
    }
   ],
   "source": [
    "# Dom Seg Ter Quar Qui Sex Sab\n",
    "#  x   _   _   _   _    x   x\n",
    "#  0   1   1   1   1    0   0 \n",
    "#  0   0   1   0   1    0   0\n",
    "dias = 0b0111100\n",
    "disp = 0b0010100\n",
    "print(dias & disp == disp)\n",
    "print (dias, disp)\n",
    "print(f\"{60:08b}\")"
   ]
  },
  {
   "cell_type": "markdown",
   "metadata": {},
   "source": [
    "### Operadores de bit a bit\n",
    "#### Conjunção (&) \n",
    "Também conhecido como and bit-a-bit"
   ]
  },
  {
   "cell_type": "code",
   "execution_count": 8,
   "metadata": {},
   "outputs": [
    {
     "name": "stdout",
     "output_type": "stream",
     "text": [
      "00001111 15\n",
      "00010110 22\n",
      "-------- &\n",
      "00000110 6\n"
     ]
    }
   ],
   "source": [
    "a, b = 15, 22\n",
    "print(f\"{a:08b}\",a)\n",
    "print(f\"{b:08b}\",b)\n",
    "print(\"-\" * 8 + \" &\")\n",
    "print(f\"{(a & b):08b}\", a & b)"
   ]
  },
  {
   "cell_type": "markdown",
   "metadata": {},
   "source": [
    "#### Disjunção (|)\n",
    "Também conhecido como or bit-a-bit"
   ]
  },
  {
   "cell_type": "code",
   "execution_count": 9,
   "metadata": {},
   "outputs": [
    {
     "name": "stdout",
     "output_type": "stream",
     "text": [
      "00001111 15\n",
      "00010110 22\n",
      "-------- |\n",
      "00011111 31\n"
     ]
    }
   ],
   "source": [
    "a, b = 15, 22\n",
    "print(f\"{a:08b}\",a)\n",
    "print(f\"{b:08b}\",b)\n",
    "print(\"-\" * 8 + \" |\")\n",
    "print(f\"{(a | b):08b}\", a | b)"
   ]
  },
  {
   "cell_type": "markdown",
   "metadata": {},
   "source": [
    "#### Disjunção exclusiva (^)\n",
    "Também conhecido como xor bit-a-bit (or exclusivo)"
   ]
  },
  {
   "cell_type": "code",
   "execution_count": 10,
   "metadata": {},
   "outputs": [
    {
     "name": "stdout",
     "output_type": "stream",
     "text": [
      "00001111 15\n",
      "00010110 22\n",
      "-------- ^\n",
      "00011001 25\n"
     ]
    }
   ],
   "source": [
    "a, b = 15, 22\n",
    "print(f\"{a:08b}\",a)\n",
    "print(f\"{b:08b}\",b)\n",
    "print(\"-\" * 8 + \" ^\")\n",
    "print(f\"{(a ^ b):08b}\", a ^ b)"
   ]
  },
  {
   "cell_type": "markdown",
   "metadata": {},
   "source": [
    "#### complemento (~)"
   ]
  },
  {
   "cell_type": "code",
   "execution_count": 12,
   "metadata": {},
   "outputs": [
    {
     "name": "stdout",
     "output_type": "stream",
     "text": [
      "-11\n",
      "9\n"
     ]
    }
   ],
   "source": [
    "print(~10)\n",
    "print(~-10)"
   ]
  },
  {
   "cell_type": "markdown",
   "metadata": {},
   "source": [
    "#### Deslocamento de bit para esquerda (<<)"
   ]
  },
  {
   "cell_type": "code",
   "execution_count": 1,
   "metadata": {},
   "outputs": [
    {
     "name": "stdout",
     "output_type": "stream",
     "text": [
      "00001111 15\n",
      "-------- a << 2\n",
      "00111100 60\n"
     ]
    }
   ],
   "source": [
    "a = 15\n",
    "print(f\"{a:08b}\",a)\n",
    "print(\"-\" * 8 + \" a << 2\")\n",
    "print(f\"{(a << 2):08b}\",a << 2)"
   ]
  },
  {
   "cell_type": "markdown",
   "metadata": {},
   "source": [
    "#### Deslocamento de bit para direita (>>)"
   ]
  },
  {
   "cell_type": "code",
   "execution_count": 3,
   "metadata": {},
   "outputs": [
    {
     "name": "stdout",
     "output_type": "stream",
     "text": [
      "00001111 15\n",
      "-------- a >> 2\n",
      "00000011 3\n",
      "11110000 240\n"
     ]
    }
   ],
   "source": [
    "a = 15\n",
    "print(f\"{a:08b}\",a)\n",
    "print(\"-\" * 8 + \" a >> 2\")\n",
    "print(f\"{(a >> 2):08b}\",a >> 2)\n",
    "a = a << 2\n",
    "a <<= 2 # Operação de atalho, podemos utilizar nos bits\n",
    "print(f\"{a:08b}\",a)"
   ]
  },
  {
   "cell_type": "markdown",
   "metadata": {},
   "source": [
    "### Atualizando a lista de prioridades\n",
    "Seq | Operador | Descrição\n",
    "--- |:--------:| ---------\n",
    "1 | () | Parenteses\n",
    "2 | ** | Exponenciação\n",
    "3 | ~,+,- | Operadores unários\n",
    "4 | *,/,//,% | Multiplicação, divisões e resto\n",
    "5 | +,- | Soma e subtração\n",
    "6 | <<,>> | Deslocamento de bits\n",
    "7 | & | Conjunção bit-a-bit\n",
    "8 | ^ | Xor bit-a-bit\n",
    "9 | \\| | Disjunção bit-a-bit\n",
    "10 | in, not in, is, is not, <, >, <=, >=, !=, == | Relacionais\n",
    "11 | not | Operador lógico not\n",
    "12 | and | Operador lógico and\n",
    "13 | or | Operador lógico or"
   ]
  }
 ],
 "metadata": {
  "kernelspec": {
   "display_name": "Python 3",
   "language": "python",
   "name": "python3"
  },
  "language_info": {
   "codemirror_mode": {
    "name": "ipython",
    "version": 3
   },
   "file_extension": ".py",
   "mimetype": "text/x-python",
   "name": "python",
   "nbconvert_exporter": "python",
   "pygments_lexer": "ipython3",
   "version": "3.13.0"
  }
 },
 "nbformat": 4,
 "nbformat_minor": 2
}
