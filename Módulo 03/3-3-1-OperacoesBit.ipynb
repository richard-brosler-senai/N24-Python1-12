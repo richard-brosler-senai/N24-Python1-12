{
 "cells": [
  {
   "cell_type": "markdown",
   "metadata": {},
   "source": [
    "# Operações Lógicas e de Bit-a-Bit\n",
    "### Operador lógico and\n",
    "A | B | Operação | Resultado\n",
    "-- | -- | -------- | ---------\n",
    "True | True | A and B | True\n",
    "False | True | A and B | False\n",
    "True | False | A and B | False\n",
    "False | False | A and B | False"
   ]
  },
  {
   "cell_type": "code",
   "execution_count": 5,
   "metadata": {},
   "outputs": [
    {
     "name": "stdout",
     "output_type": "stream",
     "text": [
      "True\n",
      "False\n",
      "1\n",
      "0\n"
     ]
    }
   ],
   "source": [
    "print( True and True)\n",
    "print( True and False)\n",
    "print(3 and 1)\n",
    "print(0 and 4)"
   ]
  },
  {
   "cell_type": "markdown",
   "metadata": {},
   "source": [
    "### Operador or\n",
    "A | B | Operação | Resultado\n",
    "-- | -- | ------- | -------\n",
    "True | True | A or B | True\n",
    "False | True | A or B | True\n",
    "True | False | A or B | True\n",
    "False | False | A or B | False"
   ]
  },
  {
   "cell_type": "code",
   "execution_count": 6,
   "metadata": {},
   "outputs": [
    {
     "name": "stdout",
     "output_type": "stream",
     "text": [
      "True\n",
      "True\n",
      "1\n",
      "4\n"
     ]
    }
   ],
   "source": [
    "print(True or True)\n",
    "print(True or False)\n",
    "print(1 or 3)\n",
    "print(0 or 4)"
   ]
  },
  {
   "cell_type": "markdown",
   "metadata": {},
   "source": [
    "### operador not\n",
    "A | Operação | Resultado\n",
    "-- | ------- | ---------\n",
    "True | not A | False\n",
    "False | not A | True"
   ]
  },
  {
   "cell_type": "code",
   "execution_count": 9,
   "metadata": {},
   "outputs": [
    {
     "name": "stdout",
     "output_type": "stream",
     "text": [
      "False\n",
      "True\n",
      "False\n",
      "True\n"
     ]
    }
   ],
   "source": [
    "print(not True)\n",
    "print(not False)\n",
    "print(not 1)\n",
    "print(not 0)"
   ]
  },
  {
   "cell_type": "code",
   "execution_count": 10,
   "metadata": {},
   "outputs": [
    {
     "name": "stdout",
     "output_type": "stream",
     "text": [
      "Idade inválida! Redigite!\n",
      "Idade inválida! Redigite!\n",
      "Você pode dirigir!\n"
     ]
    }
   ],
   "source": [
    "# juntando o que aprendemos\n",
    "# desenvolver um programa que solicite a idade entre\n",
    "# 18 e 65 anos (Só poderá digitar esses valores)\n",
    "# Mostrar a seguinte mensagem após, \"Você pode dirigir\"\n",
    "idade = 17\n",
    "while not (idade>=18 and idade<=65):\n",
    "           #idade<18 or idade>65\n",
    "    idade = int(input(\"Digite sua idade (18-65 anos): \"))\n",
    "    if not (idade>=18 and idade<=65):\n",
    "        print(\"Idade inválida! Redigite!\")\n",
    "# Fim do while\n",
    "print(\"Você pode dirigir!\")"
   ]
  }
 ],
 "metadata": {
  "kernelspec": {
   "display_name": "Python 3",
   "language": "python",
   "name": "python3"
  },
  "language_info": {
   "codemirror_mode": {
    "name": "ipython",
    "version": 3
   },
   "file_extension": ".py",
   "mimetype": "text/x-python",
   "name": "python",
   "nbconvert_exporter": "python",
   "pygments_lexer": "ipython3",
   "version": "3.13.0"
  }
 },
 "nbformat": 4,
 "nbformat_minor": 2
}
