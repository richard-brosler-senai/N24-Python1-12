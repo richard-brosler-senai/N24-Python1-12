{
 "cells": [
  {
   "cell_type": "markdown",
   "metadata": {},
   "source": [
    "# Fatiamento de Listas"
   ]
  },
  {
   "cell_type": "code",
   "execution_count": 6,
   "metadata": {},
   "outputs": [
    {
     "name": "stdout",
     "output_type": "stream",
     "text": [
      "[3, 4, 5]\n",
      "[1, 2, 3, 4, 5]\n",
      "[4, 5, 6]\n",
      "[3, 4, 5]\n",
      "[]\n"
     ]
    }
   ],
   "source": [
    "lista = [1,2,3,4,5,6]\n",
    "print(lista[2:5]) # Inicio e fim no fatiamento\n",
    "print(lista[:5]) # Somente o fim, omitindo o início\n",
    "print(lista[3:]) # Omitindo o fim\n",
    "# Podemo usar indices negativos também no fatiamento\n",
    "print(lista[-4:-1])\n",
    "print(lista[-1:-4]) # Isso retorna nada"
   ]
  },
  {
   "cell_type": "code",
   "execution_count": 10,
   "metadata": {},
   "outputs": [
    {
     "name": "stdout",
     "output_type": "stream",
     "text": [
      "[1, 2, 3, 4, 5] 2377322646528\n",
      "[1, 2, 3, 4, 5, 6] 2377322553088\n",
      "[1, 5]\n",
      "[]\n"
     ]
    }
   ],
   "source": [
    "lista1 = [1,2,3,4,5]\n",
    "lista2 = lista1[:] # omitindo inicio e fim\n",
    "lista2.append(6)\n",
    "print(lista1, id(lista1))\n",
    "print(lista2, id(lista2))\n",
    "del lista1[1:-1]\n",
    "print(lista1)\n",
    "del lista2[:] # Limpo a lista inteira\n",
    "print(lista2)"
   ]
  },
  {
   "cell_type": "markdown",
   "metadata": {},
   "source": [
    "### operador in e not in"
   ]
  },
  {
   "cell_type": "code",
   "execution_count": 17,
   "metadata": {},
   "outputs": [
    {
     "name": "stdout",
     "output_type": "stream",
     "text": [
      "True\n",
      "False\n",
      "True\n"
     ]
    }
   ],
   "source": [
    "lista = [1,2,3,[6,7],4,5]\n",
    "print([6,7] in lista)\n",
    "print(6 in lista)\n",
    "print(6 not in lista)"
   ]
  },
  {
   "cell_type": "code",
   "execution_count": 18,
   "metadata": {},
   "outputs": [
    {
     "name": "stdout",
     "output_type": "stream",
     "text": [
      "A lista com os elementos exclusivos aqui\n",
      "[1, 2, 4, 6, 9]\n"
     ]
    }
   ],
   "source": [
    "# Lab 3.6.6\n",
    "my_list = [1, 2, 4, 4, 1, 4, 2, 6, 2, 9]\n",
    "#\n",
    "# Escreva seu código aqui.\n",
    "#\n",
    "lst_trab = my_list[:] # Copiando os elementos da lista\n",
    "my_list.clear()       # Limpando a lista\n",
    "for ele in lst_trab:\n",
    "  if ele not in my_list: # Se não estiver na lista, adiciona\n",
    "      my_list.append(ele)\n",
    "print(\"A lista com os elementos exclusivos aqui\")\n",
    "print(my_list)\n"
   ]
  }
 ],
 "metadata": {
  "kernelspec": {
   "display_name": "Python 3",
   "language": "python",
   "name": "python3"
  },
  "language_info": {
   "codemirror_mode": {
    "name": "ipython",
    "version": 3
   },
   "file_extension": ".py",
   "mimetype": "text/x-python",
   "name": "python",
   "nbconvert_exporter": "python",
   "pygments_lexer": "ipython3",
   "version": "3.13.0"
  }
 },
 "nbformat": 4,
 "nbformat_minor": 2
}
