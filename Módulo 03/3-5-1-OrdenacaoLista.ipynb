{
 "cells": [
  {
   "cell_type": "markdown",
   "metadata": {},
   "source": [
    "# Ordenação em Listas\n",
    "### Algoritmo bubbleSort (bolha)"
   ]
  },
  {
   "cell_type": "code",
   "execution_count": 2,
   "metadata": {},
   "outputs": [
    {
     "name": "stdout",
     "output_type": "stream",
     "text": [
      "[2, 4, 6, 8, 10]\n"
     ]
    }
   ],
   "source": [
    "lista = [8, 10, 6, 2, 4]\n",
    "# Ordenando valores\n",
    "ha_troca = True\n",
    "while ha_troca:\n",
    "  ha_troca = False\n",
    "  for ind in range(len(lista)-1):\n",
    "      if lista[ind] > lista[ind + 1]:\n",
    "          lista[ind], lista[ind+1] = lista[ind+1], lista[ind]\n",
    "          ha_troca = True \n",
    "\n",
    "print(lista)"
   ]
  },
  {
   "cell_type": "code",
   "execution_count": null,
   "metadata": {},
   "outputs": [
    {
     "name": "stdout",
     "output_type": "stream",
     "text": [
      "[2, 4, 6, 8, 10]\n"
     ]
    }
   ],
   "source": [
    "lista = [8, 10, 6, 2, 4]\n",
    "lista.sort() # Método que ordena os elementos\n",
    "print(lista)"
   ]
  },
  {
   "cell_type": "code",
   "execution_count": 4,
   "metadata": {},
   "outputs": [
    {
     "name": "stdout",
     "output_type": "stream",
     "text": [
      "[4, 2, 6, 10, 8]\n"
     ]
    }
   ],
   "source": [
    "lista = [8, 10, 6, 2, 4]\n",
    "lista.reverse() # Inverte os elementos\n",
    "print(lista)"
   ]
  },
  {
   "cell_type": "code",
   "execution_count": 5,
   "metadata": {},
   "outputs": [
    {
     "name": "stdout",
     "output_type": "stream",
     "text": [
      "[10, 8, 6, 4, 2]\n"
     ]
    }
   ],
   "source": [
    "lista = [8, 10, 6, 2, 4]\n",
    "# Ordem Descendente\n",
    "lista.sort()\n",
    "lista.reverse()\n",
    "print(lista)"
   ]
  }
 ],
 "metadata": {
  "kernelspec": {
   "display_name": "Python 3",
   "language": "python",
   "name": "python3"
  },
  "language_info": {
   "codemirror_mode": {
    "name": "ipython",
    "version": 3
   },
   "file_extension": ".py",
   "mimetype": "text/x-python",
   "name": "python",
   "nbconvert_exporter": "python",
   "pygments_lexer": "ipython3",
   "version": "3.13.0"
  }
 },
 "nbformat": 4,
 "nbformat_minor": 2
}
