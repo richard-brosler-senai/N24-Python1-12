{
 "cells": [
  {
   "cell_type": "markdown",
   "metadata": {},
   "source": [
    "# Programa Olá Mundo\n",
    "### Comando print"
   ]
  },
  {
   "cell_type": "code",
   "execution_count": 1,
   "metadata": {},
   "outputs": [
    {
     "name": "stdout",
     "output_type": "stream",
     "text": [
      "Olá mundo!\n"
     ]
    }
   ],
   "source": [
    "print(\"Olá mundo!\")"
   ]
  },
  {
   "cell_type": "code",
   "execution_count": 12,
   "metadata": {},
   "outputs": [
    {
     "name": "stdout",
     "output_type": "stream",
     "text": [
      "Meu 'nome' é Richard\n",
      "\n",
      "Tudo bem \"com vocês\"?\n"
     ]
    }
   ],
   "source": [
    "print(\"Meu\",\"'nome'\",\"é\",\"Richard\")\n",
    "print()\n",
    "print('Tudo bem \"com vocês\"?')"
   ]
  },
  {
   "cell_type": "code",
   "execution_count": 18,
   "metadata": {},
   "outputs": [
    {
     "name": "stdout",
     "output_type": "stream",
     "text": [
      "A aranha\n",
      "subia \"a\" colina.\n",
      "\\\n",
      "123451234\t6789\t0123\t456\n",
      "789\t0123\t456\t789\n"
     ]
    }
   ],
   "source": [
    "# Caracter escape \\\n",
    "print(\"A aranha\\r\\nsubia \\\"a\\\" colina.\")\n",
    "print(\"\\\\\")\n",
    "print(\"123451234\\t6789\\t0123\\t456\")\n",
    "print(\"789\\t0123\\t456\\t789\")"
   ]
  },
  {
   "cell_type": "code",
   "execution_count": null,
   "metadata": {},
   "outputs": [
    {
     "ename": "SyntaxError",
     "evalue": "positional argument follows keyword argument (3120914911.py, line 3)",
     "output_type": "error",
     "traceback": [
      "\u001b[1;36m  Cell \u001b[1;32mIn[20], line 3\u001b[1;36m\u001b[0m\n\u001b[1;33m    print(sep=\"*\",\"a\",\"abelha\")\u001b[0m\n\u001b[1;37m                              ^\u001b[0m\n\u001b[1;31mSyntaxError\u001b[0m\u001b[1;31m:\u001b[0m positional argument follows keyword argument\n"
     ]
    }
   ],
   "source": [
    "# Argumentos nomeados\n",
    "print(\"A\",\"aranha\",\"subiu\",\"a\",\"montanha\",sep=\"-\")\n",
    "# isso abaixo vai dar erro.\n",
    "print(sep=\"*\",\"a\",\"abelha\")"
   ]
  },
  {
   "cell_type": "code",
   "execution_count": 23,
   "metadata": {},
   "outputs": [
    {
     "name": "stdout",
     "output_type": "stream",
     "text": [
      "A aranha*subiu a colina.-Veio a água e a derrubou\n"
     ]
    }
   ],
   "source": [
    "print(\"A aranha\",\"subiu a colina\",end=\".-\",sep=\"*\")\n",
    "print(\"Veio a água e a derrubou\")"
   ]
  }
 ],
 "metadata": {
  "kernelspec": {
   "display_name": "Python 3",
   "language": "python",
   "name": "python3"
  },
  "language_info": {
   "codemirror_mode": {
    "name": "ipython",
    "version": 3
   },
   "file_extension": ".py",
   "mimetype": "text/x-python",
   "name": "python",
   "nbconvert_exporter": "python",
   "pygments_lexer": "ipython3",
   "version": "3.13.0"
  }
 },
 "nbformat": 4,
 "nbformat_minor": 2
}
