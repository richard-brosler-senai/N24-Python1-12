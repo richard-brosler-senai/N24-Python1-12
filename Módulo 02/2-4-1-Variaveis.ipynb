{
 "cells": [
  {
   "cell_type": "markdown",
   "metadata": {},
   "source": [
    "# Variaveis"
   ]
  },
  {
   "cell_type": "code",
   "execution_count": 2,
   "metadata": {},
   "outputs": [
    {
     "name": "stdout",
     "output_type": "stream",
     "text": [
      "47\n",
      "Nome\n"
     ]
    }
   ],
   "source": [
    "idade = 47\n",
    "print(idade)\n",
    "idade = \"Nome\"\n",
    "print(idade)"
   ]
  },
  {
   "cell_type": "markdown",
   "metadata": {},
   "source": [
    "### Regras para nomenclatura de variáveis\n",
    "* Deve iniciar com letra ou _\n",
    "* Não pode conter caracter especial com exceção _\n",
    "* Não pode conter espaços entre o nome da variável\n",
    "* Pode conter números desde que iniciado por _ ou letra\n",
    "* Não pode ser uma palavra reservado do python\n",
    "* Criar variáveis com nome que dê sentido ao papel que ela irá desempenhar"
   ]
  },
  {
   "cell_type": "code",
   "execution_count": 3,
   "metadata": {},
   "outputs": [
    {
     "name": "stdout",
     "output_type": "stream",
     "text": [
      "O salário ficou em 6000\n"
     ]
    }
   ],
   "source": [
    "salario = 5000\n",
    "salario = salario + 1000\n",
    "print(\"O salário ficou em\", salario)"
   ]
  },
  {
   "cell_type": "code",
   "execution_count": null,
   "metadata": {},
   "outputs": [
    {
     "name": "stdout",
     "output_type": "stream",
     "text": [
      "3,5,6\n",
      "Total de maças: 14\n"
     ]
    }
   ],
   "source": [
    "#John tinha três maçãs, Mary cinco maçãs e Adam tinha seis maças\n",
    "# Criando as variáveis\n",
    "john = 3\n",
    "mary = 5\n",
    "adam = 6\n",
    "# imprimindo valores\n",
    "print(john,mary,adam,sep=\",\")\n",
    "# totalizando maçãs\n",
    "total_apples = john + mary + adam\n",
    "# imprimindo total de maçãs\n",
    "print(\"Total de maçãs:\",total_apples)"
   ]
  },
  {
   "cell_type": "markdown",
   "metadata": {},
   "source": [
    "### Operadores de atalho\n",
    "Quando eu tenho uma operação da seguinte forma:\n",
    "variavel = variavel *operador* valor\n",
    "podemos escrever dessa forma:\n",
    "variavel *operador*= valor\n",
    "Exemplo:\n",
    "variavel = 1\n",
    "variavel = variavel + 5 ==> variavel += 5\n",
    "variavel = variavel * 3 ==> variavel *= 3\n",
    "variavel = variavel ** 2 => variavel **= 2"
   ]
  },
  {
   "cell_type": "code",
   "execution_count": null,
   "metadata": {},
   "outputs": [
    {
     "name": "stdout",
     "output_type": "stream",
     "text": [
      "3\n"
     ]
    }
   ],
   "source": [
    "conta = 1\n",
    "conta += 2 # conta = conta + 2\n",
    "print(conta)"
   ]
  },
  {
   "cell_type": "code",
   "execution_count": 6,
   "metadata": {},
   "outputs": [
    {
     "name": "stdout",
     "output_type": "stream",
     "text": [
      "7.38 milhas é 11.88 quilômetros\n",
      "12.25 quilômetros é 7.61 milhas\n"
     ]
    }
   ],
   "source": [
    "# Lab 2.4.9\n",
    "kilometers = 12.25\n",
    "miles = 7.38\n",
    "\n",
    "miles_to_kilometers = miles * 1.61\n",
    "kilometers_to_miles = kilometers / 1.61\n",
    "\n",
    "print(miles, \"milhas é\", round(miles_to_kilometers, 2), \"quilômetros\")\n",
    "print(kilometers, \"quilômetros é\", round(kilometers_to_miles, 2), \"milhas\")"
   ]
  },
  {
   "cell_type": "code",
   "execution_count": 9,
   "metadata": {},
   "outputs": [
    {
     "name": "stdout",
     "output_type": "stream",
     "text": [
      "y = -9.0\n"
     ]
    }
   ],
   "source": [
    "# lab 2.4.10 x=0, x=1, x=-1\n",
    "# 3x³-2x²+3x-1 \n",
    "x = -1\n",
    "x = float(x)\n",
    "# Escreva seu código aqui.\n",
    "y = 3 * x ** 3 - 2 * x ** 2 + 3 * x - 1\n",
    "print(\"y =\", y)"
   ]
  },
  {
   "cell_type": "code",
   "execution_count": null,
   "metadata": {},
   "outputs": [],
   "source": [
    "# Programa para fazer a formula de baskara\n",
    "# author: richard brosler\n",
    "# versão: 2024-11-06\n",
    "\"\"\"\n",
    "Programa para fazer a formula de baskara\n",
    "author: richard brosler\n",
    "versão: 2024-11-06\n",
    "\"\"\""
   ]
  }
 ],
 "metadata": {
  "kernelspec": {
   "display_name": "Python 3",
   "language": "python",
   "name": "python3"
  },
  "language_info": {
   "codemirror_mode": {
    "name": "ipython",
    "version": 3
   },
   "file_extension": ".py",
   "mimetype": "text/x-python",
   "name": "python",
   "nbconvert_exporter": "python",
   "pygments_lexer": "ipython3",
   "version": "3.13.0"
  }
 },
 "nbformat": 4,
 "nbformat_minor": 2
}
