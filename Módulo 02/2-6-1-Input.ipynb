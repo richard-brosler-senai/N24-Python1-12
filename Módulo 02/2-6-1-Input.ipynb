{
 "cells": [
  {
   "cell_type": "markdown",
   "metadata": {},
   "source": [
    "# Interação com usuário\n",
    "### função input"
   ]
  },
  {
   "cell_type": "code",
   "execution_count": 2,
   "metadata": {},
   "outputs": [
    {
     "name": "stdout",
     "output_type": "stream",
     "text": [
      "Digite sua idade:\n",
      "Sua idade é 47\n"
     ]
    }
   ],
   "source": [
    "print(\"Digite sua idade:\")\n",
    "idade = input()\n",
    "print(\"Sua idade é\",idade)"
   ]
  },
  {
   "cell_type": "code",
   "execution_count": 3,
   "metadata": {},
   "outputs": [
    {
     "name": "stdout",
     "output_type": "stream",
     "text": [
      "Sua idade é 47\n"
     ]
    }
   ],
   "source": [
    "idade = input(\"Digite sua idade: \")\n",
    "print(\"Sua idade é\",idade)"
   ]
  },
  {
   "cell_type": "code",
   "execution_count": 6,
   "metadata": {},
   "outputs": [
    {
     "name": "stdout",
     "output_type": "stream",
     "text": [
      "O ano atual é 2024\n",
      "<class 'int'>\n"
     ]
    }
   ],
   "source": [
    "# Inputs interessantes\n",
    "# Se tirarmos o int dos 2 inputs \"funciona\"\n",
    "# Irá juntar (concatenar) os textos\n",
    "valor = int(input(\"Digite sua idade: \"))\n",
    "ano = int(input(\"Digite o ano do seu nascimento: \"))\n",
    "ano_atual = valor + ano\n",
    "print(\"O ano atual é\",ano_atual)\n",
    "print(type(valor))"
   ]
  },
  {
   "cell_type": "code",
   "execution_count": 5,
   "metadata": {},
   "outputs": [
    {
     "name": "stdout",
     "output_type": "stream",
     "text": [
      "O dobro desse número é: 123123\n",
      "<class 'str'>\n"
     ]
    }
   ],
   "source": [
    "# Outra operação interessante\n",
    "# Iremos multiplicar sem usar o int\n",
    "numero = input(\"Digite um número: \")\n",
    "print(\"O dobro desse número é:\", numero * 2)\n",
    "print(type(numero))"
   ]
  },
  {
   "cell_type": "markdown",
   "metadata": {},
   "source": [
    "\n",
    "* x = 1 => y = 0.6000000000000001\n",
    "* x = 10 => y = 0.09901951266867294\n",
    "* x = 100 => y =0.009999000199950014\n",
    "* x = -5 => y = -0.19258202567760344"
   ]
  },
  {
   "cell_type": "code",
   "execution_count": 8,
   "metadata": {},
   "outputs": [
    {
     "name": "stdout",
     "output_type": "stream",
     "text": [
      "y = 0.09901951266867294\n"
     ]
    }
   ],
   "source": [
    "x = float(input(\"Digite o valor para x: \"))\n",
    "# Escreva seu código aqui.\n",
    "y = 1 / ( x + 1 / ( x + 1 / (x + 1 / x)))\n",
    "print(\"y =\", y)"
   ]
  },
  {
   "cell_type": "code",
   "execution_count": 11,
   "metadata": {},
   "outputs": [
    {
     "name": "stdout",
     "output_type": "stream",
     "text": [
      "Horário de término:10:40\n"
     ]
    }
   ],
   "source": [
    "# Lab 2.6.11\n",
    "hour = int(input(\"Hora de início (horas): \"))\n",
    "mins = int(input(\"Hora de início (minutos): \"))\n",
    "dura = int(input(\"Duração do evento (minutos): \"))\n",
    "# Escreva seu código aqui.\n",
    "horaf = hour * 60 + mins + dura\n",
    "minf = horaf % 60\n",
    "horaf //= 60 # horaf = horaf // 60\n",
    "horaf %= 24 # horaf = horaf % 24\n",
    "print(\"Horário de término\",horaf,minf,sep=\":\")"
   ]
  }
 ],
 "metadata": {
  "kernelspec": {
   "display_name": "Python 3",
   "language": "python",
   "name": "python3"
  },
  "language_info": {
   "codemirror_mode": {
    "name": "ipython",
    "version": 3
   },
   "file_extension": ".py",
   "mimetype": "text/x-python",
   "name": "python",
   "nbconvert_exporter": "python",
   "pygments_lexer": "ipython3",
   "version": "3.13.0"
  }
 },
 "nbformat": 4,
 "nbformat_minor": 2
}
